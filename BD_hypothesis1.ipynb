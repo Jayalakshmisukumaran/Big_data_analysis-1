{
  "nbformat": 4,
  "nbformat_minor": 0,
  "metadata": {
    "colab": {
      "provenance": []
    },
    "kernelspec": {
      "name": "python3",
      "display_name": "Python 3"
    },
    "language_info": {
      "name": "python"
    }
  },
  "cells": [
    {
      "cell_type": "code",
      "execution_count": null,
      "metadata": {
        "colab": {
          "base_uri": "https://localhost:8080/"
        },
        "id": "UJb2bWA-hB3Z",
        "outputId": "8b8c3c54-ff05-4b21-d56d-e93ebc55f7e5"
      },
      "outputs": [
        {
          "output_type": "stream",
          "name": "stdout",
          "text": [
            "sample_data\n"
          ]
        }
      ],
      "source": [
        "!ls # list the contents in the notebook\n"
      ]
    },
    {
      "cell_type": "markdown",
      "source": [
        "# Hypothesis 1"
      ],
      "metadata": {
        "id": "gRvuIZ5iBnAG"
      }
    },
    {
      "cell_type": "code",
      "source": [
        "# install and set up the Spark environment\n",
        "!clear\n",
        "!echo welcome\n",
        "\n",
        "!rm -f spark-3.3.[01]-bin-hadoop3.tgz* \n",
        "!rm -rf spark-3.3.[01]-bin-hadoop3\n",
        "\n",
        "!apt-get install openjdk-8-jdk-headless -qq > /dev/null\n",
        "!wget https://downloads.apache.org/spark/spark-3.3.2/spark-3.3.2-bin-hadoop3.tgz\n",
        "!tar -xf spark-3.3.2-bin-hadoop3.tgz"
      ],
      "metadata": {
        "colab": {
          "base_uri": "https://localhost:8080/"
        },
        "id": "swMvpO3khJGs",
        "outputId": "38e9f438-8080-44b3-e318-965a5d17f69e"
      },
      "execution_count": null,
      "outputs": [
        {
          "output_type": "stream",
          "name": "stdout",
          "text": [
            "\u001b[H\u001b[2Jwelcome\n",
            "--2023-05-23 12:10:55--  https://downloads.apache.org/spark/spark-3.3.2/spark-3.3.2-bin-hadoop3.tgz\n",
            "Resolving downloads.apache.org (downloads.apache.org)... 88.99.95.219, 135.181.214.104, 2a01:4f8:10a:201a::2, ...\n",
            "Connecting to downloads.apache.org (downloads.apache.org)|88.99.95.219|:443... connected.\n",
            "HTTP request sent, awaiting response... 200 OK\n",
            "Length: 299360284 (285M) [application/x-gzip]\n",
            "Saving to: ‘spark-3.3.2-bin-hadoop3.tgz’\n",
            "\n",
            "spark-3.3.2-bin-had 100%[===================>] 285.49M  24.8MB/s    in 12s     \n",
            "\n",
            "2023-05-23 12:11:07 (23.3 MB/s) - ‘spark-3.3.2-bin-hadoop3.tgz’ saved [299360284/299360284]\n",
            "\n"
          ]
        }
      ]
    },
    {
      "cell_type": "code",
      "source": [
        "!ls -alt"
      ],
      "metadata": {
        "colab": {
          "base_uri": "https://localhost:8080/"
        },
        "id": "pGjvruEjhN_i",
        "outputId": "e1c1bfba-585f-4e34-c416-4847c7589df9"
      },
      "execution_count": null,
      "outputs": [
        {
          "output_type": "stream",
          "name": "stdout",
          "text": [
            "total 292368\n",
            "drwxr-xr-x  1 root root      4096 May 23 12:11 .\n",
            "drwxr-xr-x  1 root root      4096 May 23 12:08 ..\n",
            "drwxr-xr-x  1 root root      4096 May 19 13:32 sample_data\n",
            "drwxr-xr-x  4 root root      4096 May 19 13:31 .config\n",
            "-rw-r--r--  1 root root 299360284 Feb 10 21:28 spark-3.3.2-bin-hadoop3.tgz\n",
            "drwxr-xr-x 13  501 1000      4096 Feb 10 20:40 spark-3.3.2-bin-hadoop3\n"
          ]
        }
      ]
    },
    {
      "cell_type": "code",
      "source": [
        "# install findspark and initialise \n",
        "!pip3 install findspark\n",
        "import os\n",
        "os.environ[\"JAVA_HOME\"] = \"/usr/lib/jvm/java-8-openjdk-amd64\"\n",
        "os.environ[\"SPARK_HOME\"] = \"/content/spark-3.3.2-bin-hadoop3\"\n",
        "import findspark\n",
        "findspark.init()\n",
        "from pyspark import SparkConf, SparkContext\n",
        "# the next line gives us 'local' mode. try 'local[2]' to use 2 cores or 'master:NNNN' to run on Spark standalone cluster at port NNNN\n",
        "spark_conf = SparkConf().setMaster('local[2]').setAppName('MyApp')\n",
        "sc = SparkContext(conf=spark_conf)\n",
        "# see what we have by examining the Spark User Interface\n",
        "from pyspark.sql import *\n",
        "from pyspark.sql.functions import *\n",
        "SparkSession.builder.getOrCreate()"
      ],
      "metadata": {
        "colab": {
          "base_uri": "https://localhost:8080/",
          "height": 310
        },
        "id": "U1MHGyw4hWFo",
        "outputId": "8666b158-e186-4ef6-99b3-499b122bb7f5"
      },
      "execution_count": null,
      "outputs": [
        {
          "output_type": "stream",
          "name": "stdout",
          "text": [
            "Looking in indexes: https://pypi.org/simple, https://us-python.pkg.dev/colab-wheels/public/simple/\n",
            "Collecting findspark\n",
            "  Downloading findspark-2.0.1-py2.py3-none-any.whl (4.4 kB)\n",
            "Installing collected packages: findspark\n",
            "Successfully installed findspark-2.0.1\n"
          ]
        },
        {
          "output_type": "execute_result",
          "data": {
            "text/plain": [
              "<pyspark.sql.session.SparkSession at 0x7f5b001c22f0>"
            ],
            "text/html": [
              "\n",
              "            <div>\n",
              "                <p><b>SparkSession - in-memory</b></p>\n",
              "                \n",
              "        <div>\n",
              "            <p><b>SparkContext</b></p>\n",
              "\n",
              "            <p><a href=\"http://7ea565497f0f:4040\">Spark UI</a></p>\n",
              "\n",
              "            <dl>\n",
              "              <dt>Version</dt>\n",
              "                <dd><code>v3.3.2</code></dd>\n",
              "              <dt>Master</dt>\n",
              "                <dd><code>local[2]</code></dd>\n",
              "              <dt>AppName</dt>\n",
              "                <dd><code>MyApp</code></dd>\n",
              "            </dl>\n",
              "        </div>\n",
              "        \n",
              "            </div>\n",
              "        "
            ]
          },
          "metadata": {},
          "execution_count": 4
        }
      ]
    },
    {
      "cell_type": "code",
      "source": [
        "# get file for given year from TfL open data\n",
        "!wget https://cycling.data.tfl.gov.uk/usage-stats/cyclehireusagestats-2014.zip\n",
        "!unzip cyclehireusagestats-2014.zip"
      ],
      "metadata": {
        "colab": {
          "base_uri": "https://localhost:8080/"
        },
        "id": "NcnJ9zIohbUK",
        "outputId": "23a5b04f-0968-4e68-8418-f736980cb041"
      },
      "execution_count": null,
      "outputs": [
        {
          "output_type": "stream",
          "name": "stdout",
          "text": [
            "--2023-05-23 12:11:46--  https://cycling.data.tfl.gov.uk/usage-stats/cyclehireusagestats-2014.zip\n",
            "Resolving cycling.data.tfl.gov.uk (cycling.data.tfl.gov.uk)... 104.16.101.13, 104.16.100.13\n",
            "Connecting to cycling.data.tfl.gov.uk (cycling.data.tfl.gov.uk)|104.16.101.13|:443... connected.\n",
            "HTTP request sent, awaiting response... 200 OK\n",
            "Length: 225215129 (215M) [application/zip]\n",
            "Saving to: ‘cyclehireusagestats-2014.zip’\n",
            "\n",
            "cyclehireusagestats 100%[===================>] 214.78M   174MB/s    in 1.2s    \n",
            "\n",
            "2023-05-23 12:11:47 (174 MB/s) - ‘cyclehireusagestats-2014.zip’ saved [225215129/225215129]\n",
            "\n",
            "Archive:  cyclehireusagestats-2014.zip\n",
            "  inflating: 1. Journey Data Extract 05Jan14-02Feb14.csv  \n",
            "  inflating: 10a. Journey Data Extract 14Sep14-27Sep14.csv  \n",
            "  inflating: 10b. Journey Data Extract 28Sep14-11Oct14.csv  \n",
            "  inflating: 11a. Journey Data Extract 12Oct14-08Nov14.csv  \n",
            "  inflating: 11b. Journey Data Extract 12Oct14-08Nov14.csv  \n",
            "  inflating: 12a. Journey Data Extract 09Nov14-06Dec14.csv  \n",
            "  inflating: 12b. Journey Data Extract 09Nov14-06Dec14.csv  \n",
            "  inflating: 13a. Journey Data Extract 07Dec14-21Dec14.csv  \n",
            "  inflating: 13b. Journey Data Extract 22Dec14-03Jan15.csv  \n",
            "  inflating: 14. Journey Data Extract 08Dec13-04Jan14.csv  \n",
            "  inflating: 2. Journey Data Extract 03Feb14-01Mar14.csv  \n",
            "  inflating: 3. Journey Data Extract 02Mar14-31Mar14.csv  \n",
            "  inflating: 4. Journey Data Extract 01Apr14-26Apr14.csv  \n",
            "  inflating: 5. Journey Data Extract 27Apr14-24May14.csv  \n",
            "  inflating: 6. Journey Data Extract 25May14-21Jun14.csv  \n",
            "  inflating: 7. Journey Data Extract 22Jun14-19Jul14.csv  \n",
            "  inflating: 8a Journey Data Extract 20Jul14-31Jul14.csv  \n",
            "  inflating: 8b Journey Data Extract 01Aug14-16Aug14.csv  \n",
            "  inflating: 9a Journey Data Extract 17Aug14-31Aug14.csv  \n",
            "  inflating: 9b Journey Data Extract 01Sep14-13Sep14.csv  \n"
          ]
        }
      ]
    },
    {
      "cell_type": "code",
      "source": [
        "spark = SparkSession.builder.appName(\"bikes\").getOrCreate()"
      ],
      "metadata": {
        "id": "QmpSwh4MhkGW"
      },
      "execution_count": null,
      "outputs": []
    },
    {
      "cell_type": "code",
      "source": [
        "# read in file\n",
        "!ls\n",
        "file1=\"./3. Journey*csv\"\n",
        "file2=\"./4. Journey*csv\"\n",
        "file3=\"./5. Journey*csv\"\n",
        "file4=\"./6. Journey*csv\"\n",
        "total_spring_df = (spark.read.format(\"csv\")\n",
        "         .option(\"header\", \"true\")\n",
        "         .option(\"inferSchema\", \"true\")\n",
        "         .load([file1,file2,file3,file4]))\n",
        "total_spring_df.show(5)"
      ],
      "metadata": {
        "colab": {
          "base_uri": "https://localhost:8080/"
        },
        "id": "3ruLU1mshlgL",
        "outputId": "0a434790-b7c4-48e7-d226-305df6b3c16b"
      },
      "execution_count": null,
      "outputs": [
        {
          "output_type": "stream",
          "name": "stdout",
          "text": [
            "'10a. Journey Data Extract 14Sep14-27Sep14.csv'\n",
            "'10b. Journey Data Extract 28Sep14-11Oct14.csv'\n",
            "'11a. Journey Data Extract 12Oct14-08Nov14.csv'\n",
            "'11b. Journey Data Extract 12Oct14-08Nov14.csv'\n",
            "'12a. Journey Data Extract 09Nov14-06Dec14.csv'\n",
            "'12b. Journey Data Extract 09Nov14-06Dec14.csv'\n",
            "'13a. Journey Data Extract 07Dec14-21Dec14.csv'\n",
            "'13b. Journey Data Extract 22Dec14-03Jan15.csv'\n",
            "'14. Journey Data Extract 08Dec13-04Jan14.csv'\n",
            "'1. Journey Data Extract 05Jan14-02Feb14.csv'\n",
            "'2. Journey Data Extract 03Feb14-01Mar14.csv'\n",
            "'3. Journey Data Extract 02Mar14-31Mar14.csv'\n",
            "'4. Journey Data Extract 01Apr14-26Apr14.csv'\n",
            "'5. Journey Data Extract 27Apr14-24May14.csv'\n",
            "'6. Journey Data Extract 25May14-21Jun14.csv'\n",
            "'7. Journey Data Extract 22Jun14-19Jul14.csv'\n",
            "'8a Journey Data Extract 20Jul14-31Jul14.csv'\n",
            "'8b Journey Data Extract 01Aug14-16Aug14.csv'\n",
            "'9a Journey Data Extract 17Aug14-31Aug14.csv'\n",
            "'9b Journey Data Extract 01Sep14-13Sep14.csv'\n",
            " cyclehireusagestats-2014.zip\n",
            " sample_data\n",
            " spark-3.3.2-bin-hadoop3\n",
            " spark-3.3.2-bin-hadoop3.tgz\n",
            "+---------+--------+-------+----------------+-------------+--------------------+----------------+---------------+--------------------+----+----+----+\n",
            "|Rental Id|Duration|Bike Id|        End Date|EndStation Id|     EndStation Name|      Start Date|StartStation Id|   StartStation Name| _c9|_c10|_c11|\n",
            "+---------+--------+-------+----------------+-------------+--------------------+----------------+---------------+--------------------+----+----+----+\n",
            "| 33253206|    1140|  11439|27/05/2014 00:59|          695|Islington Green, ...|27/05/2014 00:40|             81|Great Titchfield ...|null|null|null|\n",
            "| 33345935|     660|  10792|30/05/2014 18:00|          326|Graham Street, Angel|30/05/2014 17:49|            203|West Smithfield R...|null|null|null|\n",
            "| 33480171|    1440|  11901|03/06/2014 13:29|          695|Islington Green, ...|03/06/2014 13:05|            239|Warren Street Sta...|null|null|null|\n",
            "| 33709780|     960|   6891|09/06/2014 18:31|           20|Drummond Street ,...|09/06/2014 18:15|            695|Islington Green, ...|null|null|null|\n",
            "| 33794406|    1260|   6600|11/06/2014 19:58|          697|Charlotte Terrace...|11/06/2014 19:37|            311|Foley Street, Fit...|null|null|null|\n",
            "+---------+--------+-------+----------------+-------------+--------------------+----------------+---------------+--------------------+----+----+----+\n",
            "only showing top 5 rows\n",
            "\n"
          ]
        }
      ]
    },
    {
      "cell_type": "code",
      "source": [
        "# filter the Start Date column by removing dates lower than 20/03/2014\n",
        "start_df = total_spring_df.select(to_timestamp(col(\"Start Date\"),format=\"dd/MM/yyyy HH:mm\").alias(\"Start\"),\"Duration\",\"StartStation Id\",\"StartStation Name\",\"End Date\",\"EndStation Id\",\"EndStation Name\")"
      ],
      "metadata": {
        "id": "7_kn5is3hpZb"
      },
      "execution_count": null,
      "outputs": []
    },
    {
      "cell_type": "code",
      "source": [
        "spring_df = start_df.filter(start_df.Start >= \"2014-03-20 00:00:00\")"
      ],
      "metadata": {
        "id": "yOKqT41Vhv8x"
      },
      "execution_count": null,
      "outputs": []
    },
    {
      "cell_type": "code",
      "source": [
        "end_df = spring_df.select(to_timestamp(col(\"End Date\"),format=\"dd/MM/yyyy HH:mm\").alias(\"End\"),\"Duration\",\"Start\",\"StartStation Id\",\"StartStation Name\",\"EndStation Id\",\"EndStation Name\")"
      ],
      "metadata": {
        "id": "peYLLlEAh36w"
      },
      "execution_count": null,
      "outputs": []
    },
    {
      "cell_type": "code",
      "source": [
        "# filtering the end date of the dataframe by removing dates lower than 20/03/2014\n",
        "spring_df = end_df.filter(end_df.End >= \"2014-03-20 00:00:00\")"
      ],
      "metadata": {
        "id": "VyUubY0BiITz"
      },
      "execution_count": null,
      "outputs": []
    },
    {
      "cell_type": "code",
      "source": [
        "spring_df.show(5)# displays  5 rows of the dataframe"
      ],
      "metadata": {
        "colab": {
          "base_uri": "https://localhost:8080/"
        },
        "id": "yO3Sa931iNzs",
        "outputId": "074b0358-7c6f-4610-d974-80f11522c466"
      },
      "execution_count": null,
      "outputs": [
        {
          "output_type": "stream",
          "name": "stdout",
          "text": [
            "+-------------------+--------+-------------------+---------------+--------------------+-------------+--------------------+\n",
            "|                End|Duration|              Start|StartStation Id|   StartStation Name|EndStation Id|     EndStation Name|\n",
            "+-------------------+--------+-------------------+---------------+--------------------+-------------+--------------------+\n",
            "|2014-05-27 00:59:00|    1140|2014-05-27 00:40:00|             81|Great Titchfield ...|          695|Islington Green, ...|\n",
            "|2014-05-30 18:00:00|     660|2014-05-30 17:49:00|            203|West Smithfield R...|          326|Graham Street, Angel|\n",
            "|2014-06-03 13:29:00|    1440|2014-06-03 13:05:00|            239|Warren Street Sta...|          695|Islington Green, ...|\n",
            "|2014-06-09 18:31:00|     960|2014-06-09 18:15:00|            695|Islington Green, ...|           20|Drummond Street ,...|\n",
            "|2014-06-11 19:58:00|    1260|2014-06-11 19:37:00|            311|Foley Street, Fit...|          697|Charlotte Terrace...|\n",
            "+-------------------+--------+-------------------+---------------+--------------------+-------------+--------------------+\n",
            "only showing top 5 rows\n",
            "\n"
          ]
        }
      ]
    },
    {
      "cell_type": "code",
      "source": [
        "spring_df.count() # displays the number of rows present in the dataframe"
      ],
      "metadata": {
        "colab": {
          "base_uri": "https://localhost:8080/"
        },
        "id": "nPtiYBQoiSAI",
        "outputId": "8b549f4c-fc93-49cd-e1fb-9329c2b78903"
      },
      "execution_count": null,
      "outputs": [
        {
          "output_type": "execute_result",
          "data": {
            "text/plain": [
              "2691350"
            ]
          },
          "metadata": {},
          "execution_count": 13
        }
      ]
    },
    {
      "cell_type": "markdown",
      "source": [
        "##### The aggregate function, agg() is used to show the summary statistics of the duration of rides like mean, minimum duration, maximum duration, skewness of distribution and the total duration (sum)."
      ],
      "metadata": {
        "id": "6logj2lwD1UZ"
      }
    },
    {
      "cell_type": "code",
      "source": [
        "mean = spring_df.agg({\"Duration\":\"mean\"}).show() "
      ],
      "metadata": {
        "colab": {
          "base_uri": "https://localhost:8080/"
        },
        "id": "R2bhFG_qihe-",
        "outputId": "92a70b25-548a-4153-aa72-a38c5c35ed98"
      },
      "execution_count": null,
      "outputs": [
        {
          "output_type": "stream",
          "name": "stdout",
          "text": [
            "+------------------+\n",
            "|     avg(Duration)|\n",
            "+------------------+\n",
            "|1522.0841287829528|\n",
            "+------------------+\n",
            "\n"
          ]
        }
      ]
    },
    {
      "cell_type": "code",
      "source": [
        "min = spring_df.agg({\"Duration\":\"min\"}).show()"
      ],
      "metadata": {
        "colab": {
          "base_uri": "https://localhost:8080/"
        },
        "id": "ZaylJIHBiupB",
        "outputId": "6c6ac8df-9b2d-4394-ed2a-0c776cc208b7"
      },
      "execution_count": null,
      "outputs": [
        {
          "output_type": "stream",
          "name": "stdout",
          "text": [
            "+-------------+\n",
            "|min(Duration)|\n",
            "+-------------+\n",
            "|            0|\n",
            "+-------------+\n",
            "\n"
          ]
        }
      ]
    },
    {
      "cell_type": "code",
      "source": [
        "max = spring_df.agg({\"Duration\":\"max\"}).show()"
      ],
      "metadata": {
        "colab": {
          "base_uri": "https://localhost:8080/"
        },
        "id": "oz_J7l5vixKT",
        "outputId": "84fb6ac8-fef2-4db4-d4bc-3ffa8e6439df"
      },
      "execution_count": null,
      "outputs": [
        {
          "output_type": "stream",
          "name": "stdout",
          "text": [
            "+-------------+\n",
            "|max(Duration)|\n",
            "+-------------+\n",
            "|        99900|\n",
            "+-------------+\n",
            "\n"
          ]
        }
      ]
    },
    {
      "cell_type": "code",
      "source": [
        "skewness = spring_df.agg({\"Duration\":\"skewness\"}).show()"
      ],
      "metadata": {
        "colab": {
          "base_uri": "https://localhost:8080/"
        },
        "id": "lFPidzldi7C9",
        "outputId": "a7a45ac7-2707-4df8-9215-6e8292bc6446"
      },
      "execution_count": null,
      "outputs": [
        {
          "output_type": "stream",
          "name": "stdout",
          "text": [
            "+------------------+\n",
            "|skewness(Duration)|\n",
            "+------------------+\n",
            "| 82.81257302398738|\n",
            "+------------------+\n",
            "\n"
          ]
        }
      ]
    },
    {
      "cell_type": "code",
      "source": [
        "sum = spring_df.agg({\"Duration\":\"sum\"}).show()"
      ],
      "metadata": {
        "colab": {
          "base_uri": "https://localhost:8080/"
        },
        "id": "xxd0a1Poi_UN",
        "outputId": "fd330924-8e06-4857-efd2-65f1c8cba7f0"
      },
      "execution_count": null,
      "outputs": [
        {
          "output_type": "stream",
          "name": "stdout",
          "text": [
            "+-------------+\n",
            "|sum(Duration)|\n",
            "+-------------+\n",
            "| 4.09646112E9|\n",
            "+-------------+\n",
            "\n"
          ]
        }
      ]
    },
    {
      "cell_type": "code",
      "source": [
        "spring_df.agg({\"Duration\":\"Sum\"}).show() # displays the total duration of rides in the Spring season"
      ],
      "metadata": {
        "colab": {
          "base_uri": "https://localhost:8080/"
        },
        "id": "t1IHk4-gjFbH",
        "outputId": "7d10a3a1-d84e-45ef-a1ea-d2d99f3cc226"
      },
      "execution_count": null,
      "outputs": [
        {
          "output_type": "stream",
          "name": "stdout",
          "text": [
            "+-------------+\n",
            "|sum(Duration)|\n",
            "+-------------+\n",
            "| 4.09646112E9|\n",
            "+-------------+\n",
            "\n"
          ]
        }
      ]
    },
    {
      "cell_type": "markdown",
      "source": [
        "#### The dataframe spring_df is grouped using the function groupBy() on the basis of startstation name and the corresponding aggregate duration. It is displayed by ordering in the descending order of duration. orderBy() and sort() is used to sort the values."
      ],
      "metadata": {
        "id": "YDRMMvysEhO4"
      }
    },
    {
      "cell_type": "code",
      "source": [
        "spring_df.groupBy(\"StartStation Name\").agg({\"Duration\":\"mean\"}).orderBy(\"avg(Duration)\",ascending=False).show(10)\n",
        "spring_df.groupBy(\"StartStation Name\").agg({\"Duration\":\"min\"}).sort(\"min(Duration)\").show(10)\n",
        "spring_df.groupBy(\"StartStation Name\").agg({\"Duration\":\"max\"}).sort(\"max(Duration)\",ascending=False).show(10)\n",
        "spring_df.groupBy(\"StartStation Name\").agg({\"Duration\":\"skewness\"}).show(10)\n",
        "spring_df.groupBy(\"StartStation Name\").agg({\"Duration\":\"sum\"}).orderBy(\"sum(Duration)\",ascending=False).show(10)\n",
        "\n"
      ],
      "metadata": {
        "colab": {
          "base_uri": "https://localhost:8080/"
        },
        "id": "uWGb6B4ZjMSU",
        "outputId": "2893f553-3391-4a5e-c058-9e8b36e46ea7"
      },
      "execution_count": null,
      "outputs": [
        {
          "output_type": "stream",
          "name": "stdout",
          "text": [
            "+--------------------+------------------+\n",
            "|   StartStation Name|     avg(Duration)|\n",
            "+--------------------+------------------+\n",
            "|Bromley High Stre...| 5258.209459459459|\n",
            "|Teviot Street, Po...| 4790.930232558139|\n",
            "|Malmesbury Road, Bow| 4771.397260273972|\n",
            "|St John's Park, C...| 4193.008849557522|\n",
            "|Ravenscourt Park ...| 3839.508532423208|\n",
            "|Hurlingham Park, ...|3708.3168316831684|\n",
            "|Peterborough Road...|3678.3571428571427|\n",
            "|Stebondale Street...| 3673.457943925234|\n",
            "|Thessaly Road Nor...|3636.8267223382045|\n",
            "|Putney Bridge Roa...|3592.0114942528735|\n",
            "+--------------------+------------------+\n",
            "only showing top 10 rows\n",
            "\n",
            "+--------------------+-------------+\n",
            "|   StartStation Name|min(Duration)|\n",
            "+--------------------+-------------+\n",
            "|Abbey Orchard Str...|            0|\n",
            "|Abbotsbury Road, ...|            0|\n",
            "|Aberdeen Place, S...|            0|\n",
            "|Aberfeldy Street,...|            0|\n",
            "|Abingdon Green, G...|            0|\n",
            "|Abingdon Villas, ...|            0|\n",
            "|  Ackroyd Drive, Bow|            0|\n",
            "|Ada Street, Hackn...|            0|\n",
            "|Addison Road, Hol...|            0|\n",
            "|Aintree Street, F...|            0|\n",
            "+--------------------+-------------+\n",
            "only showing top 10 rows\n",
            "\n",
            "+--------------------+-------------+\n",
            "|   StartStation Name|max(Duration)|\n",
            "+--------------------+-------------+\n",
            "|Warwick Road, Oly...|        99900|\n",
            "|Poured Lines, Ban...|        99900|\n",
            "|Fulham Broadway, ...|        99900|\n",
            "|Wellington Road, ...|        99720|\n",
            "|Abbey Orchard Str...|         9960|\n",
            "|Albert Gate, Hyde...|         9960|\n",
            "|Abbotsbury Road, ...|         9960|\n",
            "|Belgrove Street ,...|         9960|\n",
            "|Ashley Place, Vic...|         9960|\n",
            "|Abingdon Villas, ...|         9960|\n",
            "+--------------------+-------------+\n",
            "only showing top 10 rows\n",
            "\n",
            "+--------------------+------------------+\n",
            "|   StartStation Name|skewness(Duration)|\n",
            "+--------------------+------------------+\n",
            "|George Place Mews...|25.346751627764185|\n",
            "|Dunston Road , Ha...|29.632952081743817|\n",
            "|Panton Street, We...| 53.75479232886392|\n",
            "|Russell Gardens, ...|18.331842218774575|\n",
            "|Portland Place, M...| 42.08595006538383|\n",
            "|  Park Lane, Mayfair| 21.47441502588142|\n",
            "|Montgomery Square...|21.958244009155173|\n",
            "|Appold Street, Li...|23.554816765075735|\n",
            "|Kingsway Southbou...| 53.56886705596375|\n",
            "|Gloucester Street...| 63.95041783289297|\n",
            "+--------------------+------------------+\n",
            "only showing top 10 rows\n",
            "\n",
            "+--------------------+-------------+\n",
            "|   StartStation Name|sum(Duration)|\n",
            "+--------------------+-------------+\n",
            "|Hyde Park Corner,...|   7.823106E7|\n",
            "|Black Lion Gate, ...|   6.407544E7|\n",
            "|Speakers' Corner ...|   5.421294E7|\n",
            "|Albert Gate, Hyde...|   4.268046E7|\n",
            "|Palace Gate, Kens...|    3.44235E7|\n",
            "|Wellington Arch, ...|    3.17907E7|\n",
            "|Speakers' Corner ...|   2.948232E7|\n",
            "|Triangle Car Park...|    2.77569E7|\n",
            "|Cumberland Gate, ...|   2.587662E7|\n",
            "|Regent's Row , Ha...|   2.455902E7|\n",
            "+--------------------+-------------+\n",
            "only showing top 10 rows\n",
            "\n"
          ]
        }
      ]
    },
    {
      "cell_type": "code",
      "source": [
        "spring_df.filter(\"Duration = 0\").count() # gives the number of rows where the duration column is zero "
      ],
      "metadata": {
        "colab": {
          "base_uri": "https://localhost:8080/"
        },
        "id": "IZOeSTCPjcBY",
        "outputId": "96273bf2-e522-4d15-aebd-b16372611675"
      },
      "execution_count": null,
      "outputs": [
        {
          "output_type": "execute_result",
          "data": {
            "text/plain": [
              "8336"
            ]
          },
          "metadata": {},
          "execution_count": 21
        }
      ]
    },
    {
      "cell_type": "code",
      "source": [
        "hour_df = spring_df.select(\"StartStation Name\",\"StartStation Id\",\"EndStation Id\",\"EndStation Name\",((col(\"Duration\")/3600).alias('hours'))) # the duration in seconds is converted to hours "
      ],
      "metadata": {
        "id": "RAA0_3P_jf3y"
      },
      "execution_count": null,
      "outputs": []
    },
    {
      "cell_type": "code",
      "source": [
        "hour_df.groupBy(\"StartStation Name\").sum(\"hours\").orderBy(\"sum(hours)\",ascending=False).show(10)"
      ],
      "metadata": {
        "colab": {
          "base_uri": "https://localhost:8080/"
        },
        "id": "AMkSwfl8jxxm",
        "outputId": "dc7a2da4-daed-4df9-9d12-79f006c09afa"
      },
      "execution_count": null,
      "outputs": [
        {
          "output_type": "stream",
          "name": "stdout",
          "text": [
            "+--------------------+------------------+\n",
            "|   StartStation Name|        sum(hours)|\n",
            "+--------------------+------------------+\n",
            "|Hyde Park Corner,...|21730.850000000006|\n",
            "|Black Lion Gate, ...|17798.733333333297|\n",
            "|Speakers' Corner ...|15059.149999999974|\n",
            "|Albert Gate, Hyde...|11855.683333333316|\n",
            "|Palace Gate, Kens...| 9562.083333333321|\n",
            "|Wellington Arch, ...| 8830.750000000002|\n",
            "|Speakers' Corner ...|8189.5333333333465|\n",
            "|Triangle Car Park...| 7710.250000000002|\n",
            "|Cumberland Gate, ...| 7187.950000000005|\n",
            "|Regent's Row , Ha...| 6821.950000000012|\n",
            "+--------------------+------------------+\n",
            "only showing top 10 rows\n",
            "\n"
          ]
        }
      ]
    },
    {
      "cell_type": "code",
      "source": [
        "import matplotlib.pyplot as plt   # import the libraries for plotting graph\n",
        "import pandas as pd               # import pandas library\n",
        "pd_df = hour_df.filter(\"hours>100\")[[\"hours\"]].toPandas() # the hours column is converted to Pandas dataframe \n",
        "pd_df.plot(kind=\"hist\")   # histogram is plotted \n",
        "plt.show()"
      ],
      "metadata": {
        "colab": {
          "base_uri": "https://localhost:8080/",
          "height": 430
        },
        "id": "Y6PjUjOmj56S",
        "outputId": "3043a164-df72-4207-f8db-81b119f3a1b3"
      },
      "execution_count": null,
      "outputs": [
        {
          "output_type": "display_data",
          "data": {
            "text/plain": [
              "<Figure size 640x480 with 1 Axes>"
            ],
            "image/png": "[encoded data removed]"
          },
          "metadata": {}
        }
      ]
    },
    {
      "cell_type": "code",
      "source": [
        "hour_df.show(5)"
      ],
      "metadata": {
        "colab": {
          "base_uri": "https://localhost:8080/"
        },
        "id": "tlg0e1Naowm_",
        "outputId": "fdea5999-7a19-425f-9527-40cf63fcfcaf"
      },
      "execution_count": null,
      "outputs": [
        {
          "output_type": "stream",
          "name": "stdout",
          "text": [
            "+--------------------+---------------+-------------+--------------------+-------------------+\n",
            "|   StartStation Name|StartStation Id|EndStation Id|     EndStation Name|              hours|\n",
            "+--------------------+---------------+-------------+--------------------+-------------------+\n",
            "|Great Titchfield ...|             81|          695|Islington Green, ...|0.31666666666666665|\n",
            "|West Smithfield R...|            203|          326|Graham Street, Angel|0.18333333333333332|\n",
            "|Warren Street Sta...|            239|          695|Islington Green, ...|                0.4|\n",
            "|Islington Green, ...|            695|           20|Drummond Street ,...|0.26666666666666666|\n",
            "|Foley Street, Fit...|            311|          697|Charlotte Terrace...|               0.35|\n",
            "+--------------------+---------------+-------------+--------------------+-------------------+\n",
            "only showing top 5 rows\n",
            "\n"
          ]
        }
      ]
    },
    {
      "cell_type": "code",
      "source": [
        "hour_df.groupBy(\"StartStation Name\").agg({\"hours\":\"mean\"}).orderBy(\"avg(hours)\",ascending=False).show(10)\n",
        "hour_df.groupBy(\"StartStation Name\").agg({\"hours\":\"min\"}).sort(\"min(hours)\").show(10)\n",
        "hour_df.groupBy(\"StartStation Name\").agg({\"hours\":\"max\"}).sort(\"max(hours)\",ascending=False).show(10)\n",
        "hour_df.groupBy(\"StartStation Name\").agg({\"hours\":\"skewness\"}).show(10)\n",
        "hour_df.groupBy(\"StartStation Name\").agg({\"hours\":\"sum\"}).orderBy(\"sum(hours)\",ascending=False).show(10)\n",
        "\n"
      ],
      "metadata": {
        "colab": {
          "base_uri": "https://localhost:8080/"
        },
        "id": "3eNUcKOgpDIs",
        "outputId": "019ead21-df0d-4059-b55a-544f5c5f78da"
      },
      "execution_count": null,
      "outputs": [
        {
          "output_type": "stream",
          "name": "stdout",
          "text": [
            "+--------------------+------------------+\n",
            "|   StartStation Name|        avg(hours)|\n",
            "+--------------------+------------------+\n",
            "|Bromley High Stre...|1.4606137387387381|\n",
            "|Teviot Street, Po...|1.3308139534883718|\n",
            "|Malmesbury Road, Bow|1.3253881278538817|\n",
            "|St John's Park, C...|1.1647246804326448|\n",
            "|Ravenscourt Park ...| 1.066530147895335|\n",
            "|Hurlingham Park, ...|1.0300880088008797|\n",
            "|Peterborough Road...| 1.021765873015873|\n",
            "|Stebondale Street...|1.0204049844236756|\n",
            "|Thessaly Road Nor...|1.0102296450939456|\n",
            "|Putney Bridge Roa...|0.9977809706257985|\n",
            "+--------------------+------------------+\n",
            "only showing top 10 rows\n",
            "\n",
            "+--------------------+----------+\n",
            "|   StartStation Name|min(hours)|\n",
            "+--------------------+----------+\n",
            "|George Place Mews...|       0.0|\n",
            "|Dunston Road , Ha...|       0.0|\n",
            "|Panton Street, We...|       0.0|\n",
            "|Russell Gardens, ...|       0.0|\n",
            "|Portland Place, M...|       0.0|\n",
            "|  Park Lane, Mayfair|       0.0|\n",
            "|Montgomery Square...|       0.0|\n",
            "|Appold Street, Li...|       0.0|\n",
            "|Kingsway Southbou...|       0.0|\n",
            "|Gloucester Street...|       0.0|\n",
            "+--------------------+----------+\n",
            "only showing top 10 rows\n",
            "\n",
            "+--------------------+-----------------+\n",
            "|   StartStation Name|       max(hours)|\n",
            "+--------------------+-----------------+\n",
            "|Columbia Road, We...|712.4166666666666|\n",
            "|Montpelier Street...|           695.45|\n",
            "|    Devons Road, Bow|            674.3|\n",
            "|Saunders Ness Roa...|654.1833333333333|\n",
            "|Kensington Town H...|643.0333333333333|\n",
            "|Somerset House, S...|587.4833333333333|\n",
            "|Black Lion Gate, ...|568.9166666666666|\n",
            "|Mile End Stadium,...|549.1333333333333|\n",
            "|Ebury Bridge, Pim...|           543.95|\n",
            "|Royal London Hosp...|540.0833333333334|\n",
            "+--------------------+-----------------+\n",
            "only showing top 10 rows\n",
            "\n",
            "+--------------------+------------------+\n",
            "|   StartStation Name|   skewness(hours)|\n",
            "+--------------------+------------------+\n",
            "|George Place Mews...| 25.34675162776419|\n",
            "|Dunston Road , Ha...|29.632952081743756|\n",
            "|Panton Street, We...|53.754792328863864|\n",
            "|Russell Gardens, ...|18.331842218774565|\n",
            "|Portland Place, M...| 42.08595006538374|\n",
            "|  Park Lane, Mayfair|21.474415025881402|\n",
            "|Montgomery Square...|21.958244009155187|\n",
            "|Appold Street, Li...|23.554816765075763|\n",
            "|Kingsway Southbou...| 53.56886705596386|\n",
            "|Gloucester Street...| 63.95041783289286|\n",
            "+--------------------+------------------+\n",
            "only showing top 10 rows\n",
            "\n",
            "+--------------------+------------------+\n",
            "|   StartStation Name|        sum(hours)|\n",
            "+--------------------+------------------+\n",
            "|Hyde Park Corner,...|21730.850000000006|\n",
            "|Black Lion Gate, ...|17798.733333333297|\n",
            "|Speakers' Corner ...|15059.149999999974|\n",
            "|Albert Gate, Hyde...|11855.683333333316|\n",
            "|Palace Gate, Kens...| 9562.083333333321|\n",
            "|Wellington Arch, ...| 8830.750000000002|\n",
            "|Speakers' Corner ...|8189.5333333333465|\n",
            "|Triangle Car Park...| 7710.250000000002|\n",
            "|Cumberland Gate, ...| 7187.950000000005|\n",
            "|Regent's Row , Ha...| 6821.950000000012|\n",
            "+--------------------+------------------+\n",
            "only showing top 10 rows\n",
            "\n"
          ]
        }
      ]
    },
    {
      "cell_type": "code",
      "source": [
        "import matplotlib.pyplot as plt\n",
        "import pandas as pd"
      ],
      "metadata": {
        "id": "C_jqVPYUr3zR"
      },
      "execution_count": null,
      "outputs": []
    },
    {
      "cell_type": "code",
      "source": [
        "hour_df.filter(\"hours>0\").filter(\"hours <= 100\")[[\"hours\"]].toPandas().plot(kind=\"hist\",bins=10,log=True)"
      ],
      "metadata": {
        "colab": {
          "base_uri": "https://localhost:8080/",
          "height": 448
        },
        "id": "cHzXyhp47OtN",
        "outputId": "0f24afe3-e473-44c2-b83a-f190273d9546"
      },
      "execution_count": null,
      "outputs": [
        {
          "output_type": "execute_result",
          "data": {
            "text/plain": [
              "<Axes: ylabel='Frequency'>"
            ]
          },
          "metadata": {},
          "execution_count": 68
        },
        {
          "output_type": "display_data",
          "data": {
            "text/plain": [
              "<Figure size 640x480 with 1 Axes>"
            ],
            "image/png": "[encoded data removed]"
          },
          "metadata": {}
        }
      ]
    },
    {
      "cell_type": "code",
      "source": [
        "# read in file\n",
        "# for the autumn weather, we can take the following files\n",
        "file1=\"./10a. Journey*csv\"\n",
        "file2=\"./10b. Journey*csv\"\n",
        "file3=\"./11a. Journey*csv\"\n",
        "file4=\"./11b. Journey*csv\"\n",
        "file5=\"./12a. Journey*csv\"\n",
        "file6=\"./13a. Journey*csv\"\n",
        "total_autumn_df = (spark.read.format(\"csv\")\n",
        "         .option(\"header\", \"true\")\n",
        "         .option(\"inferSchema\", \"true\")\n",
        "         .load([file1,file2,file3,file4,file5,file6]))\n",
        "total_autumn_df.show(5)"
      ],
      "metadata": {
        "colab": {
          "base_uri": "https://localhost:8080/"
        },
        "id": "3-sF5cjIu2e7",
        "outputId": "1d08702f-ae38-4a7d-d88b-699bb493e77f"
      },
      "execution_count": null,
      "outputs": [
        {
          "output_type": "stream",
          "name": "stdout",
          "text": [
            "+---------+--------+-------+----------------+-------------+--------------------+----------------+---------------+--------------------+----+----+----+\n",
            "|Rental Id|Duration|Bike Id|        End Date|EndStation Id|     EndStation Name|      Start Date|StartStation Id|   StartStation Name| _c9|_c10|_c11|\n",
            "+---------+--------+-------+----------------+-------------+--------------------+----------------+---------------+--------------------+----+----+----+\n",
            "| 37875851|     120|   3229|28/09/2014 00:02|          450|Jubilee Street, S...|28/09/2014 00:00|            443|Philpot Street, W...|null|null|null|\n",
            "| 37875861|    1080|   3283|28/09/2014 00:18|          645|Great Suffolk Str...|28/09/2014 00:00|             14|Belgrove Street ,...|null|null|null|\n",
            "| 37875857|    2820|  11369|28/09/2014 00:47|          727|Chesilton Road, F...|28/09/2014 00:00|            321|Bermondsey Street...|null|null|null|\n",
            "| 37875849|    1620|  11362|28/09/2014 00:27|          719|Victoria Park Roa...|28/09/2014 00:00|            773|Tallis Street, Te...|null|null|null|\n",
            "| 37875847|     480|   7711|28/09/2014 00:08|          553|Regent's Row , Ha...|28/09/2014 00:00|            717|Dunston Road , Ha...|null|null|null|\n",
            "+---------+--------+-------+----------------+-------------+--------------------+----------------+---------------+--------------------+----+----+----+\n",
            "only showing top 5 rows\n",
            "\n"
          ]
        }
      ]
    },
    {
      "cell_type": "code",
      "source": [
        "# remove the unwanted columns and choose start date and end date greater than september 22, 2014\n",
        "start_df = total_autumn_df.select(to_timestamp(col(\"Start Date\"),format=\"dd/MM/yyyy HH:mm\").alias(\"Start\"),\"Duration\",\"StartStation Id\",\"StartStation Name\",\"End Date\",\"EndStation Id\",\"EndStation Name\")"
      ],
      "metadata": {
        "id": "nDEiP1BNxwrZ"
      },
      "execution_count": null,
      "outputs": []
    },
    {
      "cell_type": "code",
      "source": [
        "autumn_df = start_df.filter(start_df.Start >= \"2014-09-22 00:00:00\")"
      ],
      "metadata": {
        "id": "MElW1nbuy0uP"
      },
      "execution_count": null,
      "outputs": []
    },
    {
      "cell_type": "code",
      "source": [
        "end_df = autumn_df.select(to_timestamp(col(\"End Date\"),format=\"dd/MM/yyyy HH:mm\").alias(\"End\"),\"Duration\",\"Start\",\"StartStation Id\",\"StartStation Name\",\"EndStation Id\",\"EndStation Name\")"
      ],
      "metadata": {
        "id": "FBKj0Oo6zFs5"
      },
      "execution_count": null,
      "outputs": []
    },
    {
      "cell_type": "code",
      "source": [
        "autumn_df = end_df.filter(end_df.Start >= \"2014-09-22 00:00:00\")"
      ],
      "metadata": {
        "id": "4fMrvXnrzfRR"
      },
      "execution_count": null,
      "outputs": []
    },
    {
      "cell_type": "code",
      "source": [
        "autumn_df.show(5)"
      ],
      "metadata": {
        "colab": {
          "base_uri": "https://localhost:8080/"
        },
        "id": "zwyl0vPBzp16",
        "outputId": "543d63db-4d7b-4661-f4a6-716d7f2d9106"
      },
      "execution_count": null,
      "outputs": [
        {
          "output_type": "stream",
          "name": "stdout",
          "text": [
            "+-------------------+--------+-------------------+---------------+--------------------+-------------+--------------------+\n",
            "|                End|Duration|              Start|StartStation Id|   StartStation Name|EndStation Id|     EndStation Name|\n",
            "+-------------------+--------+-------------------+---------------+--------------------+-------------+--------------------+\n",
            "|2014-09-28 00:02:00|     120|2014-09-28 00:00:00|            443|Philpot Street, W...|          450|Jubilee Street, S...|\n",
            "|2014-09-28 00:18:00|    1080|2014-09-28 00:00:00|             14|Belgrove Street ,...|          645|Great Suffolk Str...|\n",
            "|2014-09-28 00:47:00|    2820|2014-09-28 00:00:00|            321|Bermondsey Street...|          727|Chesilton Road, F...|\n",
            "|2014-09-28 00:27:00|    1620|2014-09-28 00:00:00|            773|Tallis Street, Te...|          719|Victoria Park Roa...|\n",
            "|2014-09-28 00:08:00|     480|2014-09-28 00:00:00|            717|Dunston Road , Ha...|          553|Regent's Row , Ha...|\n",
            "+-------------------+--------+-------------------+---------------+--------------------+-------------+--------------------+\n",
            "only showing top 5 rows\n",
            "\n"
          ]
        }
      ]
    },
    {
      "cell_type": "code",
      "source": [
        "autumn_df.count() # the number of rows in the dataframe"
      ],
      "metadata": {
        "colab": {
          "base_uri": "https://localhost:8080/"
        },
        "id": "g_WK4MwZzxNt",
        "outputId": "e0b6f4ff-196a-477b-a1c5-5df6501740e5"
      },
      "execution_count": null,
      "outputs": [
        {
          "output_type": "execute_result",
          "data": {
            "text/plain": [
              "2039094"
            ]
          },
          "metadata": {},
          "execution_count": 51
        }
      ]
    },
    {
      "cell_type": "code",
      "source": [
        "mean = autumn_df.agg({\"Duration\":\"mean\"}).show() # mean of the duration of rides for Autumn season"
      ],
      "metadata": {
        "colab": {
          "base_uri": "https://localhost:8080/"
        },
        "id": "5qlw7MmN0Dxl",
        "outputId": "78dc444d-ecc6-40c2-b67a-f8ff33297241"
      },
      "execution_count": null,
      "outputs": [
        {
          "output_type": "stream",
          "name": "stdout",
          "text": [
            "+------------------+\n",
            "|     avg(Duration)|\n",
            "+------------------+\n",
            "|1328.2720266942083|\n",
            "+------------------+\n",
            "\n"
          ]
        }
      ]
    },
    {
      "cell_type": "code",
      "source": [
        "mean = spring_df.agg({\"Duration\":\"mean\"}).show() # average duration of rides for Spring season. The value is higher than average duration of rides in autumn"
      ],
      "metadata": {
        "colab": {
          "base_uri": "https://localhost:8080/"
        },
        "id": "nbpJudhh0Ov2",
        "outputId": "8fe88abe-a90e-4301-cbb6-79972631eb98"
      },
      "execution_count": null,
      "outputs": [
        {
          "output_type": "stream",
          "name": "stdout",
          "text": [
            "+------------------+\n",
            "|     avg(Duration)|\n",
            "+------------------+\n",
            "|1522.0841287829528|\n",
            "+------------------+\n",
            "\n"
          ]
        }
      ]
    },
    {
      "cell_type": "code",
      "source": [
        "max = spring_df.agg({\"Duration\":\"max\"}).show() # maximum value of duration of rides"
      ],
      "metadata": {
        "colab": {
          "base_uri": "https://localhost:8080/"
        },
        "id": "uWiWP-tv0Tt1",
        "outputId": "592a88fe-94f1-434f-82b7-26072e788d33"
      },
      "execution_count": null,
      "outputs": [
        {
          "output_type": "stream",
          "name": "stdout",
          "text": [
            "+-------------+\n",
            "|max(Duration)|\n",
            "+-------------+\n",
            "|        99900|\n",
            "+-------------+\n",
            "\n"
          ]
        }
      ]
    },
    {
      "cell_type": "code",
      "source": [
        "max = autumn_df.agg({\"Duration\":\"max\"}).show()"
      ],
      "metadata": {
        "colab": {
          "base_uri": "https://localhost:8080/"
        },
        "id": "eAC3YVKg0ef9",
        "outputId": "f3f782cf-ede6-4415-8ce1-775015710b95"
      },
      "execution_count": null,
      "outputs": [
        {
          "output_type": "stream",
          "name": "stdout",
          "text": [
            "+-------------+\n",
            "|max(Duration)|\n",
            "+-------------+\n",
            "|        99900|\n",
            "+-------------+\n",
            "\n"
          ]
        }
      ]
    },
    {
      "cell_type": "code",
      "source": [
        "sum = spring_df.agg({\"Duration\":\"sum\"}).show() # total duration of rides in the Spring"
      ],
      "metadata": {
        "colab": {
          "base_uri": "https://localhost:8080/"
        },
        "id": "-6w6HGIb0l17",
        "outputId": "6c8c7fc6-2957-4d4c-8ddb-df297bebc1ee"
      },
      "execution_count": null,
      "outputs": [
        {
          "output_type": "stream",
          "name": "stdout",
          "text": [
            "+-------------+\n",
            "|sum(Duration)|\n",
            "+-------------+\n",
            "| 4.09646112E9|\n",
            "+-------------+\n",
            "\n"
          ]
        }
      ]
    },
    {
      "cell_type": "code",
      "source": [
        "sum = autumn_df.agg({\"Duration\":\"sum\"}).show() # total duration of rides in the Autumn season"
      ],
      "metadata": {
        "colab": {
          "base_uri": "https://localhost:8080/"
        },
        "id": "Sf6rh5is0xq8",
        "outputId": "dc32dd38-e776-4880-ca6b-5be7f4d78e9d"
      },
      "execution_count": null,
      "outputs": [
        {
          "output_type": "stream",
          "name": "stdout",
          "text": [
            "+-------------+\n",
            "|sum(Duration)|\n",
            "+-------------+\n",
            "| 2.70847152E9|\n",
            "+-------------+\n",
            "\n"
          ]
        }
      ]
    },
    {
      "cell_type": "code",
      "source": [
        "autumn_df.groupBy(\"StartStation Name\").agg({\"Duration\":\"mean\"}).orderBy(\"avg(Duration)\",ascending=False).show(10)\n",
        "autumn_df.groupBy(\"StartStation Name\").agg({\"Duration\":\"min\"}).sort(\"min(Duration)\").show(10)\n",
        "autumn_df.groupBy(\"StartStation Name\").agg({\"Duration\":\"max\"}).sort(\"max(Duration)\",ascending=False).show(10)\n",
        "autumn_df.groupBy(\"StartStation Name\").agg({\"Duration\":\"skewness\"}).show(10)\n",
        "autumn_df.groupBy(\"StartStation Name\").agg({\"Duration\":\"sum\"}).orderBy(\"sum(Duration)\",ascending=False).show(10)\n",
        "\n"
      ],
      "metadata": {
        "colab": {
          "base_uri": "https://localhost:8080/"
        },
        "id": "dDYuNaKS038A",
        "outputId": "5fd327f4-d920-4ecf-9f71-f0f2248dfb84"
      },
      "execution_count": null,
      "outputs": [
        {
          "output_type": "stream",
          "name": "stdout",
          "text": [
            "+--------------------+------------------+\n",
            "|   StartStation Name|     avg(Duration)|\n",
            "+--------------------+------------------+\n",
            "|South Quay East, ...| 16258.41059602649|\n",
            "|Mechanical Worksh...|           15120.0|\n",
            "|Thornfield House,...|10801.132075471698|\n",
            "|  Cantrell Road, Bow| 6467.900826446281|\n",
            "|Preston's Road, C...|4007.0953436807094|\n",
            "|Bromley High Stre...| 3866.657824933687|\n",
            "|Putney Rail Stati...|3831.3086913086913|\n",
            "|Cadogan Close, Vi...| 3802.645411460577|\n",
            "|St. John's Road, ...| 3742.847124824684|\n",
            "|East Ferry Road, ...| 3606.760563380282|\n",
            "+--------------------+------------------+\n",
            "only showing top 10 rows\n",
            "\n",
            "+--------------------+-------------+\n",
            "|   StartStation Name|min(Duration)|\n",
            "+--------------------+-------------+\n",
            "|Gaywood  Street, ...|        -1020|\n",
            "|Park Road (Baker ...|        -1020|\n",
            "|Erin Close, Walha...|        -1140|\n",
            "|    City Road, Angel|        -1140|\n",
            "|Old Street Statio...|        -1140|\n",
            "|Warwick Avenue St...|         -120|\n",
            "|Charles II Street...|         -120|\n",
            "|Felsham Road, Putney|        -1200|\n",
            "|Harrington Square...|        -1200|\n",
            "|Pembridge Villas,...|        -1200|\n",
            "+--------------------+-------------+\n",
            "only showing top 10 rows\n",
            "\n",
            "+--------------------+-------------+\n",
            "|   StartStation Name|max(Duration)|\n",
            "+--------------------+-------------+\n",
            "|Chapel Place, Mar...|        99900|\n",
            "|Shoreditch Court,...|        99600|\n",
            "|Derry Street, Ken...|         9960|\n",
            "|Buxton Street 1, ...|         9960|\n",
            "|Bell Lane, Liverp...|         9960|\n",
            "|Bethnal Green Gar...|         9960|\n",
            "|Cardinal Place, V...|         9960|\n",
            "|Belvedere Road, S...|         9960|\n",
            "|Argyll Road, Kens...|         9960|\n",
            "|Chelsea Bridge, P...|         9960|\n",
            "+--------------------+-------------+\n",
            "only showing top 10 rows\n",
            "\n",
            "+--------------------+------------------+\n",
            "|   StartStation Name|skewness(Duration)|\n",
            "+--------------------+------------------+\n",
            "|Dunston Road , Ha...| 38.76990947198288|\n",
            "|Panton Street, We...| 38.72184689522779|\n",
            "|George Place Mews...| 17.94911576355525|\n",
            "|Russell Gardens, ...| 24.73491341829223|\n",
            "|Montgomery Square...|5.1214022356372055|\n",
            "|  Park Lane, Mayfair|11.231993628532756|\n",
            "|Portland Place, M...|16.702539785256178|\n",
            "|Appold Street, Li...|25.031037986167323|\n",
            "|Kingsway Southbou...|25.723535420977132|\n",
            "|Gloucester Street...| 47.62171929989273|\n",
            "+--------------------+------------------+\n",
            "only showing top 10 rows\n",
            "\n",
            "+--------------------+-------------+\n",
            "|   StartStation Name|sum(Duration)|\n",
            "+--------------------+-------------+\n",
            "|Hyde Park Corner,...|   4.206942E7|\n",
            "|Black Lion Gate, ...|   2.820792E7|\n",
            "|Albert Gate, Hyde...|   2.459316E7|\n",
            "|Speakers' Corner ...|   1.929702E7|\n",
            "|Belgrove Street ,...|     1.7724E7|\n",
            "|Wellington Arch, ...|   1.626102E7|\n",
            "|Speakers' Corner ...|   1.566792E7|\n",
            "|Waterloo Station ...|   1.485432E7|\n",
            "|Shoreditch High S...|    1.36635E7|\n",
            "|Triangle Car Park...|   1.353438E7|\n",
            "+--------------------+-------------+\n",
            "only showing top 10 rows\n",
            "\n"
          ]
        }
      ]
    },
    {
      "cell_type": "code",
      "source": [
        "hour_autumn_df = autumn_df.select(\"StartStation Name\",\"StartStation Id\",\"EndStation Id\",\"EndStation Name\",((col(\"Duration\")/3600).alias('hours')))"
      ],
      "metadata": {
        "id": "kkjmj4FR2Q43"
      },
      "execution_count": null,
      "outputs": []
    },
    {
      "cell_type": "code",
      "source": [
        "hour_autumn_df.groupBy(\"StartStation Name\").sum(\"hours\").orderBy(\"sum(hours)\",ascending=False).show(10) # duration in seconds converted to hours and created the dataframe, then the total duration of rides for each startstation name is grouped and ordered in descending order."
      ],
      "metadata": {
        "colab": {
          "base_uri": "https://localhost:8080/"
        },
        "id": "d_slPpjm20ui",
        "outputId": "3ed3fcc0-1d48-4837-da36-cff4ac3591d8"
      },
      "execution_count": null,
      "outputs": [
        {
          "output_type": "stream",
          "name": "stdout",
          "text": [
            "+--------------------+------------------+\n",
            "|   StartStation Name|        sum(hours)|\n",
            "+--------------------+------------------+\n",
            "|Hyde Park Corner,...| 11685.94999999999|\n",
            "|Black Lion Gate, ...|  7835.53333333334|\n",
            "|Albert Gate, Hyde...| 6831.433333333331|\n",
            "|Speakers' Corner ...| 5360.283333333349|\n",
            "|Belgrove Street ,...| 4923.333333333366|\n",
            "|Wellington Arch, ...| 4516.950000000003|\n",
            "|Speakers' Corner ...| 4352.200000000003|\n",
            "|Waterloo Station ...|4126.2000000000435|\n",
            "|Shoreditch High S...|3795.4166666666715|\n",
            "|Triangle Car Park...| 3759.550000000002|\n",
            "+--------------------+------------------+\n",
            "only showing top 10 rows\n",
            "\n"
          ]
        }
      ]
    },
    {
      "cell_type": "code",
      "source": [
        "import matplotlib.pyplot as plt\n",
        "import pandas as pd\n",
        "pd_df = hour_autumn_df.filter(\"hours>100\")[[\"hours\"]].toPandas()\n",
        "pd_df.plot(kind=\"hist\",bins=10)\n",
        "plt.show()"
      ],
      "metadata": {
        "colab": {
          "base_uri": "https://localhost:8080/",
          "height": 430
        },
        "id": "a6wNh56w3am0",
        "outputId": "9554093c-636c-451c-b6cf-9f2dae708c01"
      },
      "execution_count": null,
      "outputs": [
        {
          "output_type": "display_data",
          "data": {
            "text/plain": [
              "<Figure size 640x480 with 1 Axes>"
            ],
            "image/png": "[encoded data removed]"
          },
          "metadata": {}
        }
      ]
    },
    {
      "cell_type": "code",
      "source": [
        "hour_autumn_df.groupBy(\"StartStation Name\").agg({\"hours\":\"sum\"}).orderBy(\"sum(hours)\",ascending=False).show(10)\n",
        "# the sum of duration for autumn; showing the top 10"
      ],
      "metadata": {
        "colab": {
          "base_uri": "https://localhost:8080/"
        },
        "id": "dnnpfSfL4jO7",
        "outputId": "101e3427-2c94-45f6-9bed-1df79c37ad0c"
      },
      "execution_count": null,
      "outputs": [
        {
          "output_type": "stream",
          "name": "stdout",
          "text": [
            "+--------------------+------------------+\n",
            "|   StartStation Name|        sum(hours)|\n",
            "+--------------------+------------------+\n",
            "|Hyde Park Corner,...| 11685.94999999999|\n",
            "|Black Lion Gate, ...|  7835.53333333334|\n",
            "|Albert Gate, Hyde...| 6831.433333333331|\n",
            "|Speakers' Corner ...| 5360.283333333349|\n",
            "|Belgrove Street ,...| 4923.333333333366|\n",
            "|Wellington Arch, ...| 4516.950000000003|\n",
            "|Speakers' Corner ...| 4352.200000000003|\n",
            "|Waterloo Station ...|4126.2000000000435|\n",
            "|Shoreditch High S...|3795.4166666666715|\n",
            "|Triangle Car Park...| 3759.550000000002|\n",
            "+--------------------+------------------+\n",
            "only showing top 10 rows\n",
            "\n"
          ]
        }
      ]
    },
    {
      "cell_type": "code",
      "source": [
        "hour_df.groupBy(\"StartStation Name\").agg({\"hours\":\"sum\"}).orderBy(\"sum(hours)\",ascending=False).show(10)\n",
        "# the sum of duration of rides for spring; the top 10 is shown"
      ],
      "metadata": {
        "colab": {
          "base_uri": "https://localhost:8080/"
        },
        "id": "R5VVFYaO6Fu4",
        "outputId": "350cf5c4-e294-42d1-d2ae-c8ae479e4fdb"
      },
      "execution_count": null,
      "outputs": [
        {
          "output_type": "stream",
          "name": "stdout",
          "text": [
            "+--------------------+------------------+\n",
            "|   StartStation Name|        sum(hours)|\n",
            "+--------------------+------------------+\n",
            "|Hyde Park Corner,...|21730.850000000006|\n",
            "|Black Lion Gate, ...|17798.733333333297|\n",
            "|Speakers' Corner ...|15059.149999999974|\n",
            "|Albert Gate, Hyde...|11855.683333333316|\n",
            "|Palace Gate, Kens...| 9562.083333333321|\n",
            "|Wellington Arch, ...| 8830.750000000002|\n",
            "|Speakers' Corner ...|8189.5333333333465|\n",
            "|Triangle Car Park...| 7710.250000000002|\n",
            "|Cumberland Gate, ...| 7187.950000000005|\n",
            "|Regent's Row , Ha...| 6821.950000000012|\n",
            "+--------------------+------------------+\n",
            "only showing top 10 rows\n",
            "\n"
          ]
        }
      ]
    },
    {
      "cell_type": "code",
      "source": [
        "hour_autumn_df.filter(\"hours>0\").filter(\"hours <= 100\")[[\"hours\"]].toPandas().plot(kind=\"hist\",bins=10,log=True) # histogram plot for the hours by converting it to pandas dataframe and taking the logarithmic value"
      ],
      "metadata": {
        "colab": {
          "base_uri": "https://localhost:8080/",
          "height": 448
        },
        "id": "WUGyJeo37W9m",
        "outputId": "35e51fb5-27eb-46ac-cfea-6c82cc1f8df1"
      },
      "execution_count": null,
      "outputs": [
        {
          "output_type": "execute_result",
          "data": {
            "text/plain": [
              "<Axes: ylabel='Frequency'>"
            ]
          },
          "metadata": {},
          "execution_count": 69
        },
        {
          "output_type": "display_data",
          "data": {
            "text/plain": [
              "<Figure size 640x480 with 1 Axes>"
            ],
            "image/png": "[encoded data removed]"
          },
          "metadata": {}
        }
      ]
    }
  ]
}